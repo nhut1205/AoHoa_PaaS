{
  "nbformat": 4,
  "nbformat_minor": 0,
  "metadata": {
    "colab": {
      "provenance": [],
      "mount_file_id": "1XxWmUZTHxnWuI7rURUdKSVZ6M6hR6wGw",
      "authorship_tag": "ABX9TyMLIkD54pNaGqypoVwnuVjD",
      "include_colab_link": true
    },
    "kernelspec": {
      "name": "python3",
      "display_name": "Python 3"
    },
    "language_info": {
      "name": "python"
    }
  },
  "cells": [
    {
      "cell_type": "markdown",
      "metadata": {
        "id": "view-in-github",
        "colab_type": "text"
      },
      "source": [
        "<a href=\"https://colab.research.google.com/github/nhut1205/AoHoa_PaaS/blob/main/Test1.ipynb\" target=\"_parent\"><img src=\"https://colab.research.google.com/assets/colab-badge.svg\" alt=\"Open In Colab\"/></a>"
      ]
    },
    {
      "cell_type": "code",
      "execution_count": 1,
      "metadata": {
        "id": "5TvxS4UEAQBZ",
        "colab": {
          "base_uri": "https://localhost:8080/"
        },
        "outputId": "5cfc5fbe-fddf-4339-c300-332516dd16b0"
      },
      "outputs": [
        {
          "output_type": "stream",
          "name": "stdout",
          "text": [
            "Hello\n"
          ]
        }
      ],
      "source": [
        "print(\"Hello\")"
      ]
    },
    {
      "cell_type": "code",
      "source": [],
      "metadata": {
        "id": "k-WW4qsvBZ4M"
      },
      "execution_count": null,
      "outputs": []
    }
  ]
}