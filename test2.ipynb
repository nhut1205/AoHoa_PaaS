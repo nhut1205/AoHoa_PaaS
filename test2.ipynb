{
  "cells": [
    {
      "cell_type": "code",
      "execution_count": 1,
      "metadata": {
        "id": "2ErzHE09MWmf",
        "outputId": "94e058fd-7830-4231-d6c7-da8af224f0a9",
        "colab": {
          "base_uri": "https://localhost:8080/"
        }
      },
      "outputs": [
        {
          "output_type": "stream",
          "name": "stdout",
          "text": [
            "Day la bai test AoHoaDienToanDamMay345\n"
          ]
        }
      ],
      "source": [
        "print(\"Day la bai test AoHoaDienToanDamMay345\")\n"
      ]
    }
  ],
  "metadata": {
    "language_info": {
      "name": "python"
    },
    "colab": {
      "provenance": []
    },
    "kernelspec": {
      "name": "python3",
      "display_name": "Python 3"
    }
  },
  "nbformat": 4,
  "nbformat_minor": 0
}